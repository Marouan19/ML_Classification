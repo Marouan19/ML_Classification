{
 "cells": [
  {
   "cell_type": "markdown",
   "source": [
    "<h1 style=\"text-align:center;font-size:200%;;\">Heart Attack</h1>\n",
    "<h2 style=\"text-align:center;font-size:100%;;\">Classification using DT</h2>\n",
    "<h4 style=\"text-align:left;\">Réaliser par  :Marouan Daghmoumi & Abderrazzak El Bourkadi & </h4>\n",
    "<h4 style=\"text-align:left;\">Encadré par  : Pr. Abdellah AZMANI</h4>"
   ],
   "metadata": {
    "collapsed": false
   },
   "id": "4c31f62d47ef375f"
  },
  {
   "cell_type": "markdown",
   "source": [
    "## 1. Importation des librairies"
   ],
   "metadata": {
    "collapsed": false
   },
   "id": "c8977d2f434fd3ef"
  },
  {
   "cell_type": "code",
   "execution_count": 1,
   "outputs": [],
   "source": [
    "import seaborn as sns\n",
    "import numpy as np # linear algebra\n",
    "import pandas as pd # data processing, CSV file I/O (e.g. pd.read_csv)\n",
    "import matplotlib.pyplot as plt\n",
    "from sklearn.model_selection import train_test_split\n",
    "from sklearn.preprocessing import StandardScaler \n",
    "from sklearn.svm import SVC\n",
    "from sklearn.linear_model import LogisticRegression\n",
    "import xgboost as xgb\n",
    "from sklearn.metrics import accuracy_score\n",
    "from sklearn.neighbors import KNeighborsClassifier  \n",
    "from sklearn.ensemble import RandomForestRegressor\n",
    "from sklearn.neighbors import KNeighborsClassifier\n",
    "from sklearn.naive_bayes import BernoulliNB\n",
    "from sklearn.naive_bayes import GaussianNB\n",
    "from sklearn.metrics import confusion_matrix"
   ],
   "metadata": {
    "collapsed": true,
    "ExecuteTime": {
     "end_time": "2023-12-19T16:17:42.789436Z",
     "start_time": "2023-12-19T16:17:42.503834Z"
    }
   },
   "id": "initial_id"
  },
  {
   "cell_type": "markdown",
   "source": [
    "## 2. Collecte des données"
   ],
   "metadata": {
    "collapsed": false
   },
   "id": "e46ef98a26e360cc"
  },
  {
   "cell_type": "code",
   "execution_count": 2,
   "outputs": [],
   "source": [
    "data=pd.read_csv('heart.csv')"
   ],
   "metadata": {
    "collapsed": false,
    "ExecuteTime": {
     "end_time": "2023-12-19T16:17:42.794408Z",
     "start_time": "2023-12-19T16:17:42.789878Z"
    }
   },
   "id": "38bef3194cc0c36e"
  },
  {
   "cell_type": "code",
   "execution_count": 3,
   "outputs": [
    {
     "name": "stdout",
     "output_type": "stream",
     "text": [
      "     age  sex  cp  trtbps  chol  fbs  restecg  thalachh  exng  oldpeak  slp  \\\n",
      "0     63    1   3     145   233    1        0       150     0      2.3    0   \n",
      "1     37    1   2     130   250    0        1       187     0      3.5    0   \n",
      "2     41    0   1     130   204    0        0       172     0      1.4    2   \n",
      "3     56    1   1     120   236    0        1       178     0      0.8    2   \n",
      "4     57    0   0     120   354    0        1       163     1      0.6    2   \n",
      "..   ...  ...  ..     ...   ...  ...      ...       ...   ...      ...  ...   \n",
      "298   57    0   0     140   241    0        1       123     1      0.2    1   \n",
      "299   45    1   3     110   264    0        1       132     0      1.2    1   \n",
      "300   68    1   0     144   193    1        1       141     0      3.4    1   \n",
      "301   57    1   0     130   131    0        1       115     1      1.2    1   \n",
      "302   57    0   1     130   236    0        0       174     0      0.0    1   \n",
      "\n",
      "     caa  thall  output  \n",
      "0      0      1       1  \n",
      "1      0      2       1  \n",
      "2      0      2       1  \n",
      "3      0      2       1  \n",
      "4      0      2       1  \n",
      "..   ...    ...     ...  \n",
      "298    0      3       0  \n",
      "299    0      3       0  \n",
      "300    2      3       0  \n",
      "301    1      3       0  \n",
      "302    1      2       0  \n",
      "\n",
      "[303 rows x 14 columns]\n"
     ]
    }
   ],
   "source": [
    "print(data)"
   ],
   "metadata": {
    "collapsed": false,
    "ExecuteTime": {
     "end_time": "2023-12-19T16:17:42.802747Z",
     "start_time": "2023-12-19T16:17:42.797842Z"
    }
   },
   "id": "ee0044f267fbe568"
  },
  {
   "cell_type": "markdown",
   "source": [
    "## About this Dataset\n",
    "\n",
    "- **Age**: Age of the patient\n",
    "\n",
    "- **Sex**: Sex of the patient\n",
    "\n",
    "- **exang**: Exercise induced angina (1 = yes; 0 = no)\n",
    "\n",
    "- **ca**: Number of major vessels (0-3)\n",
    "\n",
    "- **cp**: Chest Pain type\n",
    "\n",
    "  - Value 1: Typical angina\n",
    "  - Value 2: Atypical angina\n",
    "  - Value 3: Non-anginal pain\n",
    "  - Value 4: Asymptomatic\n",
    "\n",
    "- **trtbps**: Resting blood pressure (in mm Hg)\n",
    "\n",
    "- **chol**: Cholesterol in mg/dl fetched via BMI sensor\n",
    "\n",
    "- **fbs**: Fasting blood sugar > 120 mg/dl (1 = true; 0 = false)\n",
    "\n",
    "- **rest_ecg**: Resting electrocardiographic results\n",
    "\n",
    "  - Value 0: Normal\n",
    "  - Value 1: Having ST-T wave abnormality (T wave inversions and/or ST elevation or depression of > 0.05 mV)\n",
    "  - Value 2: Showing probable or definite left ventricular hypertrophy by Estes' criteria\n",
    "\n",
    "- **thalach**: Maximum heart rate achieved\n",
    "\n",
    "- **target**: \n",
    "\n",
    "  - 0 = Less chance of heart attack\n",
    "  - 1 = More chance of heart attack\n"
   ],
   "metadata": {
    "collapsed": false
   },
   "id": "7ff4491d12f8b3a"
  },
  {
   "cell_type": "markdown",
   "source": [
    "## 3. exploration et visualisation des données"
   ],
   "metadata": {
    "collapsed": false
   },
   "id": "2c3b429a6bca13fb"
  },
  {
   "cell_type": "code",
   "execution_count": 4,
   "outputs": [
    {
     "data": {
      "text/plain": "   age  sex  cp  trtbps  chol  fbs  restecg  thalachh  exng  oldpeak  slp  \\\n0   63    1   3     145   233    1        0       150     0      2.3    0   \n1   37    1   2     130   250    0        1       187     0      3.5    0   \n2   41    0   1     130   204    0        0       172     0      1.4    2   \n3   56    1   1     120   236    0        1       178     0      0.8    2   \n4   57    0   0     120   354    0        1       163     1      0.6    2   \n5   57    1   0     140   192    0        1       148     0      0.4    1   \n6   56    0   1     140   294    0        0       153     0      1.3    1   \n7   44    1   1     120   263    0        1       173     0      0.0    2   \n8   52    1   2     172   199    1        1       162     0      0.5    2   \n9   57    1   2     150   168    0        1       174     0      1.6    2   \n\n   caa  thall  output  \n0    0      1       1  \n1    0      2       1  \n2    0      2       1  \n3    0      2       1  \n4    0      2       1  \n5    0      1       1  \n6    0      2       1  \n7    0      3       1  \n8    0      3       1  \n9    0      2       1  ",
      "text/html": "<div>\n<style scoped>\n    .dataframe tbody tr th:only-of-type {\n        vertical-align: middle;\n    }\n\n    .dataframe tbody tr th {\n        vertical-align: top;\n    }\n\n    .dataframe thead th {\n        text-align: right;\n    }\n</style>\n<table border=\"1\" class=\"dataframe\">\n  <thead>\n    <tr style=\"text-align: right;\">\n      <th></th>\n      <th>age</th>\n      <th>sex</th>\n      <th>cp</th>\n      <th>trtbps</th>\n      <th>chol</th>\n      <th>fbs</th>\n      <th>restecg</th>\n      <th>thalachh</th>\n      <th>exng</th>\n      <th>oldpeak</th>\n      <th>slp</th>\n      <th>caa</th>\n      <th>thall</th>\n      <th>output</th>\n    </tr>\n  </thead>\n  <tbody>\n    <tr>\n      <th>0</th>\n      <td>63</td>\n      <td>1</td>\n      <td>3</td>\n      <td>145</td>\n      <td>233</td>\n      <td>1</td>\n      <td>0</td>\n      <td>150</td>\n      <td>0</td>\n      <td>2.3</td>\n      <td>0</td>\n      <td>0</td>\n      <td>1</td>\n      <td>1</td>\n    </tr>\n    <tr>\n      <th>1</th>\n      <td>37</td>\n      <td>1</td>\n      <td>2</td>\n      <td>130</td>\n      <td>250</td>\n      <td>0</td>\n      <td>1</td>\n      <td>187</td>\n      <td>0</td>\n      <td>3.5</td>\n      <td>0</td>\n      <td>0</td>\n      <td>2</td>\n      <td>1</td>\n    </tr>\n    <tr>\n      <th>2</th>\n      <td>41</td>\n      <td>0</td>\n      <td>1</td>\n      <td>130</td>\n      <td>204</td>\n      <td>0</td>\n      <td>0</td>\n      <td>172</td>\n      <td>0</td>\n      <td>1.4</td>\n      <td>2</td>\n      <td>0</td>\n      <td>2</td>\n      <td>1</td>\n    </tr>\n    <tr>\n      <th>3</th>\n      <td>56</td>\n      <td>1</td>\n      <td>1</td>\n      <td>120</td>\n      <td>236</td>\n      <td>0</td>\n      <td>1</td>\n      <td>178</td>\n      <td>0</td>\n      <td>0.8</td>\n      <td>2</td>\n      <td>0</td>\n      <td>2</td>\n      <td>1</td>\n    </tr>\n    <tr>\n      <th>4</th>\n      <td>57</td>\n      <td>0</td>\n      <td>0</td>\n      <td>120</td>\n      <td>354</td>\n      <td>0</td>\n      <td>1</td>\n      <td>163</td>\n      <td>1</td>\n      <td>0.6</td>\n      <td>2</td>\n      <td>0</td>\n      <td>2</td>\n      <td>1</td>\n    </tr>\n    <tr>\n      <th>5</th>\n      <td>57</td>\n      <td>1</td>\n      <td>0</td>\n      <td>140</td>\n      <td>192</td>\n      <td>0</td>\n      <td>1</td>\n      <td>148</td>\n      <td>0</td>\n      <td>0.4</td>\n      <td>1</td>\n      <td>0</td>\n      <td>1</td>\n      <td>1</td>\n    </tr>\n    <tr>\n      <th>6</th>\n      <td>56</td>\n      <td>0</td>\n      <td>1</td>\n      <td>140</td>\n      <td>294</td>\n      <td>0</td>\n      <td>0</td>\n      <td>153</td>\n      <td>0</td>\n      <td>1.3</td>\n      <td>1</td>\n      <td>0</td>\n      <td>2</td>\n      <td>1</td>\n    </tr>\n    <tr>\n      <th>7</th>\n      <td>44</td>\n      <td>1</td>\n      <td>1</td>\n      <td>120</td>\n      <td>263</td>\n      <td>0</td>\n      <td>1</td>\n      <td>173</td>\n      <td>0</td>\n      <td>0.0</td>\n      <td>2</td>\n      <td>0</td>\n      <td>3</td>\n      <td>1</td>\n    </tr>\n    <tr>\n      <th>8</th>\n      <td>52</td>\n      <td>1</td>\n      <td>2</td>\n      <td>172</td>\n      <td>199</td>\n      <td>1</td>\n      <td>1</td>\n      <td>162</td>\n      <td>0</td>\n      <td>0.5</td>\n      <td>2</td>\n      <td>0</td>\n      <td>3</td>\n      <td>1</td>\n    </tr>\n    <tr>\n      <th>9</th>\n      <td>57</td>\n      <td>1</td>\n      <td>2</td>\n      <td>150</td>\n      <td>168</td>\n      <td>0</td>\n      <td>1</td>\n      <td>174</td>\n      <td>0</td>\n      <td>1.6</td>\n      <td>2</td>\n      <td>0</td>\n      <td>2</td>\n      <td>1</td>\n    </tr>\n  </tbody>\n</table>\n</div>"
     },
     "execution_count": 4,
     "metadata": {},
     "output_type": "execute_result"
    }
   ],
   "source": [
    "data.head(10)"
   ],
   "metadata": {
    "collapsed": false,
    "ExecuteTime": {
     "end_time": "2023-12-19T16:17:42.832645Z",
     "start_time": "2023-12-19T16:17:42.807012Z"
    }
   },
   "id": "d1eca82da4777f80"
  },
  {
   "cell_type": "code",
   "execution_count": 5,
   "outputs": [
    {
     "data": {
      "text/plain": "     age  sex  cp  trtbps  chol  fbs  restecg  thalachh  exng  oldpeak  slp  \\\n293   67    1   2     152   212    0        0       150     0      0.8    1   \n294   44    1   0     120   169    0        1       144     1      2.8    0   \n295   63    1   0     140   187    0        0       144     1      4.0    2   \n296   63    0   0     124   197    0        1       136     1      0.0    1   \n297   59    1   0     164   176    1        0        90     0      1.0    1   \n298   57    0   0     140   241    0        1       123     1      0.2    1   \n299   45    1   3     110   264    0        1       132     0      1.2    1   \n300   68    1   0     144   193    1        1       141     0      3.4    1   \n301   57    1   0     130   131    0        1       115     1      1.2    1   \n302   57    0   1     130   236    0        0       174     0      0.0    1   \n\n     caa  thall  output  \n293    0      3       0  \n294    0      1       0  \n295    2      3       0  \n296    0      2       0  \n297    2      1       0  \n298    0      3       0  \n299    0      3       0  \n300    2      3       0  \n301    1      3       0  \n302    1      2       0  ",
      "text/html": "<div>\n<style scoped>\n    .dataframe tbody tr th:only-of-type {\n        vertical-align: middle;\n    }\n\n    .dataframe tbody tr th {\n        vertical-align: top;\n    }\n\n    .dataframe thead th {\n        text-align: right;\n    }\n</style>\n<table border=\"1\" class=\"dataframe\">\n  <thead>\n    <tr style=\"text-align: right;\">\n      <th></th>\n      <th>age</th>\n      <th>sex</th>\n      <th>cp</th>\n      <th>trtbps</th>\n      <th>chol</th>\n      <th>fbs</th>\n      <th>restecg</th>\n      <th>thalachh</th>\n      <th>exng</th>\n      <th>oldpeak</th>\n      <th>slp</th>\n      <th>caa</th>\n      <th>thall</th>\n      <th>output</th>\n    </tr>\n  </thead>\n  <tbody>\n    <tr>\n      <th>293</th>\n      <td>67</td>\n      <td>1</td>\n      <td>2</td>\n      <td>152</td>\n      <td>212</td>\n      <td>0</td>\n      <td>0</td>\n      <td>150</td>\n      <td>0</td>\n      <td>0.8</td>\n      <td>1</td>\n      <td>0</td>\n      <td>3</td>\n      <td>0</td>\n    </tr>\n    <tr>\n      <th>294</th>\n      <td>44</td>\n      <td>1</td>\n      <td>0</td>\n      <td>120</td>\n      <td>169</td>\n      <td>0</td>\n      <td>1</td>\n      <td>144</td>\n      <td>1</td>\n      <td>2.8</td>\n      <td>0</td>\n      <td>0</td>\n      <td>1</td>\n      <td>0</td>\n    </tr>\n    <tr>\n      <th>295</th>\n      <td>63</td>\n      <td>1</td>\n      <td>0</td>\n      <td>140</td>\n      <td>187</td>\n      <td>0</td>\n      <td>0</td>\n      <td>144</td>\n      <td>1</td>\n      <td>4.0</td>\n      <td>2</td>\n      <td>2</td>\n      <td>3</td>\n      <td>0</td>\n    </tr>\n    <tr>\n      <th>296</th>\n      <td>63</td>\n      <td>0</td>\n      <td>0</td>\n      <td>124</td>\n      <td>197</td>\n      <td>0</td>\n      <td>1</td>\n      <td>136</td>\n      <td>1</td>\n      <td>0.0</td>\n      <td>1</td>\n      <td>0</td>\n      <td>2</td>\n      <td>0</td>\n    </tr>\n    <tr>\n      <th>297</th>\n      <td>59</td>\n      <td>1</td>\n      <td>0</td>\n      <td>164</td>\n      <td>176</td>\n      <td>1</td>\n      <td>0</td>\n      <td>90</td>\n      <td>0</td>\n      <td>1.0</td>\n      <td>1</td>\n      <td>2</td>\n      <td>1</td>\n      <td>0</td>\n    </tr>\n    <tr>\n      <th>298</th>\n      <td>57</td>\n      <td>0</td>\n      <td>0</td>\n      <td>140</td>\n      <td>241</td>\n      <td>0</td>\n      <td>1</td>\n      <td>123</td>\n      <td>1</td>\n      <td>0.2</td>\n      <td>1</td>\n      <td>0</td>\n      <td>3</td>\n      <td>0</td>\n    </tr>\n    <tr>\n      <th>299</th>\n      <td>45</td>\n      <td>1</td>\n      <td>3</td>\n      <td>110</td>\n      <td>264</td>\n      <td>0</td>\n      <td>1</td>\n      <td>132</td>\n      <td>0</td>\n      <td>1.2</td>\n      <td>1</td>\n      <td>0</td>\n      <td>3</td>\n      <td>0</td>\n    </tr>\n    <tr>\n      <th>300</th>\n      <td>68</td>\n      <td>1</td>\n      <td>0</td>\n      <td>144</td>\n      <td>193</td>\n      <td>1</td>\n      <td>1</td>\n      <td>141</td>\n      <td>0</td>\n      <td>3.4</td>\n      <td>1</td>\n      <td>2</td>\n      <td>3</td>\n      <td>0</td>\n    </tr>\n    <tr>\n      <th>301</th>\n      <td>57</td>\n      <td>1</td>\n      <td>0</td>\n      <td>130</td>\n      <td>131</td>\n      <td>0</td>\n      <td>1</td>\n      <td>115</td>\n      <td>1</td>\n      <td>1.2</td>\n      <td>1</td>\n      <td>1</td>\n      <td>3</td>\n      <td>0</td>\n    </tr>\n    <tr>\n      <th>302</th>\n      <td>57</td>\n      <td>0</td>\n      <td>1</td>\n      <td>130</td>\n      <td>236</td>\n      <td>0</td>\n      <td>0</td>\n      <td>174</td>\n      <td>0</td>\n      <td>0.0</td>\n      <td>1</td>\n      <td>1</td>\n      <td>2</td>\n      <td>0</td>\n    </tr>\n  </tbody>\n</table>\n</div>"
     },
     "execution_count": 5,
     "metadata": {},
     "output_type": "execute_result"
    }
   ],
   "source": [
    "data.tail(10)"
   ],
   "metadata": {
    "collapsed": false,
    "ExecuteTime": {
     "end_time": "2023-12-19T16:17:42.833653Z",
     "start_time": "2023-12-19T16:17:42.820270Z"
    }
   },
   "id": "c9dd1f287bc5bea2"
  },
  {
   "cell_type": "code",
   "execution_count": 6,
   "outputs": [
    {
     "data": {
      "text/plain": "(303, 14)"
     },
     "execution_count": 6,
     "metadata": {},
     "output_type": "execute_result"
    }
   ],
   "source": [
    "data.shape"
   ],
   "metadata": {
    "collapsed": false,
    "ExecuteTime": {
     "end_time": "2023-12-19T16:17:42.834013Z",
     "start_time": "2023-12-19T16:17:42.824403Z"
    }
   },
   "id": "581a278b76c2d3ac"
  },
  {
   "cell_type": "markdown",
   "source": [
    "##### Alors on a 13 features et 303 exemple"
   ],
   "metadata": {
    "collapsed": false
   },
   "id": "32ee91cc5da92f44"
  },
  {
   "cell_type": "code",
   "execution_count": 7,
   "outputs": [
    {
     "data": {
      "text/plain": "(303, 14)"
     },
     "execution_count": 7,
     "metadata": {},
     "output_type": "execute_result"
    }
   ],
   "source": [
    "data.shape\n"
   ],
   "metadata": {
    "collapsed": false,
    "ExecuteTime": {
     "end_time": "2023-12-19T16:17:42.834405Z",
     "start_time": "2023-12-19T16:17:42.829022Z"
    }
   },
   "id": "62aacd348652c332"
  },
  {
   "cell_type": "markdown",
   "source": [
    "### 1. peaple more chance of heart attack"
   ],
   "metadata": {
    "collapsed": false
   },
   "id": "8eee2f32fd178ee2"
  },
  {
   "cell_type": "code",
   "execution_count": 9,
   "outputs": [
    {
     "data": {
      "text/plain": "     age  sex  cp  trtbps  chol  fbs  restecg  thalachh  exng  oldpeak  slp  \\\n0     63    1   3     145   233    1        0       150     0      2.3    0   \n1     37    1   2     130   250    0        1       187     0      3.5    0   \n2     41    0   1     130   204    0        0       172     0      1.4    2   \n3     56    1   1     120   236    0        1       178     0      0.8    2   \n4     57    0   0     120   354    0        1       163     1      0.6    2   \n..   ...  ...  ..     ...   ...  ...      ...       ...   ...      ...  ...   \n160   56    1   1     120   240    0        1       169     0      0.0    0   \n161   55    0   1     132   342    0        1       166     0      1.2    2   \n162   41    1   1     120   157    0        1       182     0      0.0    2   \n163   38    1   2     138   175    0        1       173     0      0.0    2   \n164   38    1   2     138   175    0        1       173     0      0.0    2   \n\n     caa  thall  output  \n0      0      1       1  \n1      0      2       1  \n2      0      2       1  \n3      0      2       1  \n4      0      2       1  \n..   ...    ...     ...  \n160    0      2       1  \n161    0      2       1  \n162    0      2       1  \n163    4      2       1  \n164    4      2       1  \n\n[165 rows x 14 columns]",
      "text/html": "<div>\n<style scoped>\n    .dataframe tbody tr th:only-of-type {\n        vertical-align: middle;\n    }\n\n    .dataframe tbody tr th {\n        vertical-align: top;\n    }\n\n    .dataframe thead th {\n        text-align: right;\n    }\n</style>\n<table border=\"1\" class=\"dataframe\">\n  <thead>\n    <tr style=\"text-align: right;\">\n      <th></th>\n      <th>age</th>\n      <th>sex</th>\n      <th>cp</th>\n      <th>trtbps</th>\n      <th>chol</th>\n      <th>fbs</th>\n      <th>restecg</th>\n      <th>thalachh</th>\n      <th>exng</th>\n      <th>oldpeak</th>\n      <th>slp</th>\n      <th>caa</th>\n      <th>thall</th>\n      <th>output</th>\n    </tr>\n  </thead>\n  <tbody>\n    <tr>\n      <th>0</th>\n      <td>63</td>\n      <td>1</td>\n      <td>3</td>\n      <td>145</td>\n      <td>233</td>\n      <td>1</td>\n      <td>0</td>\n      <td>150</td>\n      <td>0</td>\n      <td>2.3</td>\n      <td>0</td>\n      <td>0</td>\n      <td>1</td>\n      <td>1</td>\n    </tr>\n    <tr>\n      <th>1</th>\n      <td>37</td>\n      <td>1</td>\n      <td>2</td>\n      <td>130</td>\n      <td>250</td>\n      <td>0</td>\n      <td>1</td>\n      <td>187</td>\n      <td>0</td>\n      <td>3.5</td>\n      <td>0</td>\n      <td>0</td>\n      <td>2</td>\n      <td>1</td>\n    </tr>\n    <tr>\n      <th>2</th>\n      <td>41</td>\n      <td>0</td>\n      <td>1</td>\n      <td>130</td>\n      <td>204</td>\n      <td>0</td>\n      <td>0</td>\n      <td>172</td>\n      <td>0</td>\n      <td>1.4</td>\n      <td>2</td>\n      <td>0</td>\n      <td>2</td>\n      <td>1</td>\n    </tr>\n    <tr>\n      <th>3</th>\n      <td>56</td>\n      <td>1</td>\n      <td>1</td>\n      <td>120</td>\n      <td>236</td>\n      <td>0</td>\n      <td>1</td>\n      <td>178</td>\n      <td>0</td>\n      <td>0.8</td>\n      <td>2</td>\n      <td>0</td>\n      <td>2</td>\n      <td>1</td>\n    </tr>\n    <tr>\n      <th>4</th>\n      <td>57</td>\n      <td>0</td>\n      <td>0</td>\n      <td>120</td>\n      <td>354</td>\n      <td>0</td>\n      <td>1</td>\n      <td>163</td>\n      <td>1</td>\n      <td>0.6</td>\n      <td>2</td>\n      <td>0</td>\n      <td>2</td>\n      <td>1</td>\n    </tr>\n    <tr>\n      <th>...</th>\n      <td>...</td>\n      <td>...</td>\n      <td>...</td>\n      <td>...</td>\n      <td>...</td>\n      <td>...</td>\n      <td>...</td>\n      <td>...</td>\n      <td>...</td>\n      <td>...</td>\n      <td>...</td>\n      <td>...</td>\n      <td>...</td>\n      <td>...</td>\n    </tr>\n    <tr>\n      <th>160</th>\n      <td>56</td>\n      <td>1</td>\n      <td>1</td>\n      <td>120</td>\n      <td>240</td>\n      <td>0</td>\n      <td>1</td>\n      <td>169</td>\n      <td>0</td>\n      <td>0.0</td>\n      <td>0</td>\n      <td>0</td>\n      <td>2</td>\n      <td>1</td>\n    </tr>\n    <tr>\n      <th>161</th>\n      <td>55</td>\n      <td>0</td>\n      <td>1</td>\n      <td>132</td>\n      <td>342</td>\n      <td>0</td>\n      <td>1</td>\n      <td>166</td>\n      <td>0</td>\n      <td>1.2</td>\n      <td>2</td>\n      <td>0</td>\n      <td>2</td>\n      <td>1</td>\n    </tr>\n    <tr>\n      <th>162</th>\n      <td>41</td>\n      <td>1</td>\n      <td>1</td>\n      <td>120</td>\n      <td>157</td>\n      <td>0</td>\n      <td>1</td>\n      <td>182</td>\n      <td>0</td>\n      <td>0.0</td>\n      <td>2</td>\n      <td>0</td>\n      <td>2</td>\n      <td>1</td>\n    </tr>\n    <tr>\n      <th>163</th>\n      <td>38</td>\n      <td>1</td>\n      <td>2</td>\n      <td>138</td>\n      <td>175</td>\n      <td>0</td>\n      <td>1</td>\n      <td>173</td>\n      <td>0</td>\n      <td>0.0</td>\n      <td>2</td>\n      <td>4</td>\n      <td>2</td>\n      <td>1</td>\n    </tr>\n    <tr>\n      <th>164</th>\n      <td>38</td>\n      <td>1</td>\n      <td>2</td>\n      <td>138</td>\n      <td>175</td>\n      <td>0</td>\n      <td>1</td>\n      <td>173</td>\n      <td>0</td>\n      <td>0.0</td>\n      <td>2</td>\n      <td>4</td>\n      <td>2</td>\n      <td>1</td>\n    </tr>\n  </tbody>\n</table>\n<p>165 rows × 14 columns</p>\n</div>"
     },
     "execution_count": 9,
     "metadata": {},
     "output_type": "execute_result"
    }
   ],
   "source": [
    "attack = data [ data['output']==1  ]\n",
    "attack "
   ],
   "metadata": {
    "collapsed": false,
    "ExecuteTime": {
     "end_time": "2023-12-19T16:23:16.942466Z",
     "start_time": "2023-12-19T16:23:16.914393Z"
    }
   },
   "id": "8c16b77da1400165"
  },
  {
   "cell_type": "code",
   "execution_count": null,
   "outputs": [],
   "source": [
    "print('Le nombre total des personnes est :', len(data))"
   ],
   "metadata": {
    "collapsed": false
   },
   "id": "1951ff72459032ce"
  }
 ],
 "metadata": {
  "kernelspec": {
   "display_name": "Python 3",
   "language": "python",
   "name": "python3"
  },
  "language_info": {
   "codemirror_mode": {
    "name": "ipython",
    "version": 2
   },
   "file_extension": ".py",
   "mimetype": "text/x-python",
   "name": "python",
   "nbconvert_exporter": "python",
   "pygments_lexer": "ipython2",
   "version": "2.7.6"
  }
 },
 "nbformat": 4,
 "nbformat_minor": 5
}
